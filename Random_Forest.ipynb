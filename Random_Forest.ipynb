{
 "cells": [
  {
   "cell_type": "markdown",
   "metadata": {},
   "source": [
    "# 1. Random Forest: Binary Classification"
   ]
  },
  {
   "cell_type": "markdown",
   "metadata": {},
   "source": [
    "### Dataset"
   ]
  },
  {
   "cell_type": "code",
   "execution_count": 88,
   "metadata": {},
   "outputs": [
    {
     "name": "stdout",
     "output_type": "stream",
     "text": [
      "(1000, 20) (1000,)\n"
     ]
    }
   ],
   "source": [
    "from sklearn.datasets import make_classification\n",
    "X, y = make_classification(n_samples=1000, \n",
    "                           n_features=20, \n",
    "                           n_informative=15, \n",
    "                           n_redundant=5, \n",
    "                           random_state=3)\n",
    "print(X.shape, y.shape)"
   ]
  },
  {
   "cell_type": "markdown",
   "metadata": {},
   "source": [
    "### Model Creation"
   ]
  },
  {
   "cell_type": "code",
   "execution_count": 89,
   "metadata": {},
   "outputs": [
    {
     "name": "stdout",
     "output_type": "stream",
     "text": [
      "Accuracy: mean = 0.901; std = 0.027\n"
     ]
    }
   ],
   "source": [
    "# evaluate random forest algorithm for classification\n",
    "from numpy import mean\n",
    "from numpy import std\n",
    "#from sklearn.model_selection import cross_val_score\n",
    "#from sklearn.model_selection import RepeatedStratifiedKFold\n",
    "from sklearn.ensemble import RandomForestClassifier\n",
    "\n",
    "model = RandomForestClassifier()\n",
    "# evaluate the model\n",
    "#cv = RepeatedStratifiedKFold(n_splits=10, n_repeats=3, random_state=1)\n",
    "#n_scores = cross_val_score(model, X, y, scoring='accuracy', cv=cv, n_jobs=-1, error_score='raise')\n",
    "# report performance\n",
    "print('Accuracy: mean = %.3f; std = %.3f' % (mean(n_scores), std(n_scores)))"
   ]
  },
  {
   "cell_type": "markdown",
   "metadata": {},
   "source": [
    "### Model Fit from Training Data"
   ]
  },
  {
   "cell_type": "code",
   "execution_count": 90,
   "metadata": {},
   "outputs": [
    {
     "data": {
      "text/plain": [
       "(<1000x19714 sparse matrix of type '<class 'numpy.int64'>'\n",
       " \twith 883876 stored elements in Compressed Sparse Row format>,\n",
       " array([    0,   209,   394,   613,   826,  1033,  1238,  1409,  1624,\n",
       "         1801,  1998,  2179,  2366,  2563,  2760,  2965,  3160,  3365,\n",
       "         3574,  3789,  3992,  4187,  4378,  4593,  4792,  4989,  5164,\n",
       "         5375,  5598,  5803,  5990,  6173,  6358,  6559,  6758,  6963,\n",
       "         7154,  7367,  7564,  7743,  7944,  8157,  8348,  8533,  8742,\n",
       "         8915,  9100,  9303,  9504,  9693,  9902, 10117, 10320, 10527,\n",
       "        10726, 10917, 11104, 11287, 11490, 11663, 11868, 12065, 12256,\n",
       "        12439, 12654, 12859, 13060, 13253, 13438, 13643, 13836, 14021,\n",
       "        14216, 14409, 14624, 14825, 15032, 15223, 15426, 15617, 15826,\n",
       "        15991, 16160, 16355, 16558, 16747, 16936, 17147, 17372, 17573,\n",
       "        17774, 17965, 18148, 18337, 18524, 18725, 18908, 19117, 19316,\n",
       "        19507, 19714]))"
      ]
     },
     "execution_count": 90,
     "metadata": {},
     "output_type": "execute_result"
    }
   ],
   "source": [
    "model.fit(X, y)\n",
    "model.decision_path(X)\n"
   ]
  },
  {
   "cell_type": "markdown",
   "metadata": {},
   "source": [
    "### Model Prediction"
   ]
  },
  {
   "cell_type": "code",
   "execution_count": 91,
   "metadata": {},
   "outputs": [
    {
     "name": "stdout",
     "output_type": "stream",
     "text": [
      "Predicted Class: 0\n"
     ]
    },
    {
     "data": {
      "text/plain": [
       "(<1000x19714 sparse matrix of type '<class 'numpy.int64'>'\n",
       " \twith 883876 stored elements in Compressed Sparse Row format>,\n",
       " array([    0,   209,   394,   613,   826,  1033,  1238,  1409,  1624,\n",
       "         1801,  1998,  2179,  2366,  2563,  2760,  2965,  3160,  3365,\n",
       "         3574,  3789,  3992,  4187,  4378,  4593,  4792,  4989,  5164,\n",
       "         5375,  5598,  5803,  5990,  6173,  6358,  6559,  6758,  6963,\n",
       "         7154,  7367,  7564,  7743,  7944,  8157,  8348,  8533,  8742,\n",
       "         8915,  9100,  9303,  9504,  9693,  9902, 10117, 10320, 10527,\n",
       "        10726, 10917, 11104, 11287, 11490, 11663, 11868, 12065, 12256,\n",
       "        12439, 12654, 12859, 13060, 13253, 13438, 13643, 13836, 14021,\n",
       "        14216, 14409, 14624, 14825, 15032, 15223, 15426, 15617, 15826,\n",
       "        15991, 16160, 16355, 16558, 16747, 16936, 17147, 17372, 17573,\n",
       "        17774, 17965, 18148, 18337, 18524, 18725, 18908, 19117, 19316,\n",
       "        19507, 19714]))"
      ]
     },
     "execution_count": 91,
     "metadata": {},
     "output_type": "execute_result"
    }
   ],
   "source": [
    "# make a single prediction\n",
    "row = [[-8.52381793,\n",
    "        5.24451077,\n",
    "        -12.14967704,\n",
    "        -2.92949242,\n",
    "        0.99314133,\n",
    "        0.67326595,\n",
    "        -0.38657932,\n",
    "        1.27955683,\n",
    "        -0.60712621,\n",
    "        3.20807316,\n",
    "        0.60504151,\n",
    "        -1.38706415,\n",
    "        8.92444588,\n",
    "        -7.43027595,\n",
    "        -2.33653219,\n",
    "        1.10358169,\n",
    "        0.21547782,\n",
    "        1.05057966,\n",
    "        0.6975331,\n",
    "        0.26076035]]\n",
    "yhat = model.predict(row)\n",
    "print('Predicted Class: %d' % yhat[0])\n",
    "model.decision_path(X)\n"
   ]
  },
  {
   "cell_type": "markdown",
   "metadata": {},
   "source": [
    "# 2. Random Forest: Regression"
   ]
  },
  {
   "cell_type": "markdown",
   "metadata": {},
   "source": [
    "### Dataset"
   ]
  },
  {
   "cell_type": "code",
   "execution_count": 55,
   "metadata": {},
   "outputs": [
    {
     "name": "stdout",
     "output_type": "stream",
     "text": [
      "(1000, 20) (1000,)\n"
     ]
    }
   ],
   "source": [
    "from sklearn.datasets import make_regression\n",
    "X, y = make_regression(n_samples=1000, \n",
    "                       n_features=20, \n",
    "                       n_informative=15, \n",
    "                       noise=0.1, \n",
    "                       random_state=2)\n",
    "print(X.shape, y.shape)"
   ]
  },
  {
   "cell_type": "markdown",
   "metadata": {},
   "source": [
    "### Model Creation"
   ]
  },
  {
   "cell_type": "code",
   "execution_count": 56,
   "metadata": {},
   "outputs": [
    {
     "name": "stdout",
     "output_type": "stream",
     "text": [
      "MAE: 0.901 0.027\n"
     ]
    }
   ],
   "source": [
    "\n",
    "# evaluate random forest ensemble for regression\n",
    "from numpy import mean\n",
    "from numpy import std\n",
    "from sklearn.datasets import make_regression\n",
    "#from sklearn.model_selection import cross_val_score\n",
    "#from sklearn.model_selection import RepeatedKFold\n",
    "from sklearn.ensemble import RandomForestRegressor\n",
    "\n",
    "# define the model\n",
    "model = RandomForestRegressor()\n",
    "# evaluate the model\n",
    "#cv = RepeatedKFold(n_splits=10, n_repeats=3, random_state=1)\n",
    "#n_scores = cross_val_score(model, X, y, scoring='neg_mean_absolute_error', cv=cv, n_jobs=-1, error_score='raise')\n",
    "# report performance\n",
    "print('MAE: %.3f %.3f' % (mean(n_scores), std(n_scores)))"
   ]
  },
  {
   "cell_type": "markdown",
   "metadata": {},
   "source": [
    "### Model Fit from Training Data"
   ]
  },
  {
   "cell_type": "code",
   "execution_count": 81,
   "metadata": {},
   "outputs": [
    {
     "data": {
      "text/plain": [
       "RandomForestClassifier(bootstrap=True, ccp_alpha=0.0, class_weight=None,\n",
       "                       criterion='gini', max_depth=None, max_features='auto',\n",
       "                       max_leaf_nodes=None, max_samples=None,\n",
       "                       min_impurity_decrease=0.0, min_impurity_split=None,\n",
       "                       min_samples_leaf=1, min_samples_split=2,\n",
       "                       min_weight_fraction_leaf=0.0, n_estimators=100,\n",
       "                       n_jobs=None, oob_score=False, random_state=None,\n",
       "                       verbose=0, warm_start=False)"
      ]
     },
     "execution_count": 81,
     "metadata": {},
     "output_type": "execute_result"
    }
   ],
   "source": [
    "model.fit(X, y)\n",
    "#model.get_params()"
   ]
  },
  {
   "cell_type": "markdown",
   "metadata": {},
   "source": [
    "### Model Prediction"
   ]
  },
  {
   "cell_type": "code",
   "execution_count": 58,
   "metadata": {},
   "outputs": [
    {
     "name": "stdout",
     "output_type": "stream",
     "text": [
      "Prediction: -155\n"
     ]
    }
   ],
   "source": [
    "# make a single prediction\n",
    "row = [[-0.89483109,\n",
    "        -1.0670149,\n",
    "        -0.25448694,\n",
    "        -0.53850126,\n",
    "        0.21082105,\n",
    "        1.37435592,\n",
    "        0.71203659,\n",
    "        0.73093031,\n",
    "        -1.25878104,\n",
    "        -2.01656886,\n",
    "        0.51906798,\n",
    "        0.62767387,\n",
    "        0.96250155,\n",
    "        1.31410617,\n",
    "        -1.25527295,\n",
    "        -0.85079036,\n",
    "        0.24129757,\n",
    "        -0.87571721,\n",
    "        -1.11454339,\n",
    "        0.36268268]]\n",
    "yhat = model.predict(row)\n",
    "print('Prediction: %d' % yhat[0])"
   ]
  }
 ],
 "metadata": {
  "kernelspec": {
   "display_name": "Python 3",
   "language": "python",
   "name": "python3"
  },
  "language_info": {
   "codemirror_mode": {
    "name": "ipython",
    "version": 3
   },
   "file_extension": ".py",
   "mimetype": "text/x-python",
   "name": "python",
   "nbconvert_exporter": "python",
   "pygments_lexer": "ipython3",
   "version": "3.6.6"
  }
 },
 "nbformat": 4,
 "nbformat_minor": 2
}
